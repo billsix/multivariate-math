{
 "cells": [
  {
   "cell_type": "markdown",
   "id": "19ed0111-6e44-4587-be85-c6cb81a982cf",
   "metadata": {},
   "source": [
    "Geometric Algebra Notes\n",
    "-----------------------\n",
    "\n",
    "Import a geometric algebra package"
   ]
  },
  {
   "cell_type": "code",
   "execution_count": null,
   "id": "3a70e009-87fb-4078-a3b0-0933b5aaddc9",
   "metadata": {},
   "outputs": [],
   "source": [
    "import sympy\n",
    "import galgebra\n",
    "from galgebra.ga import Ga\n",
    "from galgebra.printer import latex\n",
    "from IPython.display import Math\n",
    "\n",
    "# tell sympy to use our printing by default\n",
    "sympy.init_printing(latex_printer=latex, use_latex='mathjax')"
   ]
  },
  {
   "cell_type": "markdown",
   "id": "8d9c0a12-0e60-41b9-b6c0-7997b35b90dc",
   "metadata": {},
   "source": [
    "Define the coordinate system\n",
    "----------------------------\n"
   ]
  },
  {
   "cell_type": "code",
   "execution_count": null,
   "id": "349cc1c1-ca28-42cd-97cb-e308cdc21da1",
   "metadata": {},
   "outputs": [],
   "source": [
    "xyz = (x, y, z) = sympy.symbols(\"x y z\", real=True)\n",
    "o3d = Ga(\"e_x e_y e_z\", g=[1, 1, 1], coords=xyz)\n",
    "e_x, e_y, e_z = o3d.mv()"
   ]
  },
  {
   "cell_type": "markdown",
   "id": "f3276f2e-8728-47f3-a25b-e7b431e26a5f",
   "metadata": {},
   "source": [
    "Make Constants\n",
    "--------------"
   ]
  },
  {
   "cell_type": "code",
   "execution_count": null,
   "id": "5ca63d28-cb29-4a1b-a6d5-48d791783686",
   "metadata": {},
   "outputs": [],
   "source": [
    "a1a2a3 = (a_1, a_2, a_3) = sympy.symbols(\"a_1 a_2 a_3\", real=True)\n",
    "b1b2b3 = (b_1, b_2, b_3) = sympy.symbols(\"b_1 b_2 b_3\", real=True)"
   ]
  },
  {
   "cell_type": "markdown",
   "id": "4ac6835f-d625-4442-b7ab-0e0dabfe99f7",
   "metadata": {},
   "source": [
    "Define vectors with numbers\n",
    "---------------------------"
   ]
  },
  {
   "cell_type": "code",
   "execution_count": null,
   "id": "775a823f-6836-4579-9e7c-24feee5cc396",
   "metadata": {},
   "outputs": [],
   "source": [
    "vec1 = 3 * e_x + 4 * e_y - 12 * e_z\n",
    "vec2 = -3 * e_x + 12 * e_y + 4 * e_z"
   ]
  },
  {
   "cell_type": "code",
   "execution_count": null,
   "id": "84866d97-2039-491f-9666-2534a38ee37e",
   "metadata": {},
   "outputs": [],
   "source": [
    "Math('vec1 = %s' % latex(vec1))"
   ]
  },
  {
   "cell_type": "code",
   "execution_count": null,
   "id": "17e2e547-0f1c-4a47-acc7-bb9a85d237ef",
   "metadata": {},
   "outputs": [],
   "source": [
    "Math('vec2 = %s' % latex(vec2))"
   ]
  },
  {
   "cell_type": "markdown",
   "id": "7d55d4af-c746-4f9f-a316-9ac8498dd9fc",
   "metadata": {},
   "source": [
    "Define vectors with symbols\n",
    "---------------------------"
   ]
  },
  {
   "cell_type": "code",
   "execution_count": null,
   "id": "f675e49c-59e2-49b6-b597-a2d5dd395ed8",
   "metadata": {},
   "outputs": [],
   "source": [
    "symvec1 = a_1 * e_x + a_2 * e_y + a_3 * e_z\n",
    "symvec2 = b_1 * e_x + b_2 * e_y + b_3 * e_z\n",
    "\n",
    "Math('symvec1 = %s' % latex(symvec1))"
   ]
  },
  {
   "cell_type": "code",
   "execution_count": null,
   "id": "fd979dcc-753c-447b-849e-46724d3639ac",
   "metadata": {},
   "outputs": [],
   "source": [
    "Math('symvec2 = %s' % latex(symvec2))"
   ]
  },
  {
   "cell_type": "markdown",
   "id": "9e96b10b-b107-417b-8fc6-47523c204d73",
   "metadata": {},
   "source": [
    "Define basic operations on vectors/multivectors\n",
    "-----------------------------------------------"
   ]
  },
  {
   "cell_type": "code",
   "execution_count": null,
   "id": "c42c82be-8352-408a-b00f-03689e19489e",
   "metadata": {},
   "outputs": [],
   "source": [
    "def project(self, onto):\n",
    "    return (self | onto) / onto\n",
    "\n",
    "\n",
    "galgebra.mv.Mv.project = project\n",
    "\n",
    "\n",
    "# %%\n",
    "def reject(self, away_from):\n",
    "    return (self ^ away_from) / away_from\n",
    "\n",
    "\n",
    "galgebra.mv.Mv.reject = reject"
   ]
  },
  {
   "cell_type": "code",
   "execution_count": null,
   "id": "986ba13a-a1e3-40e4-8b77-210acf497dc7",
   "metadata": {},
   "outputs": [],
   "source": [
    "def rotate(self, from_vec, to_vec):\n",
    "    plane = from_vec ^ to_vec\n",
    "\n",
    "    parallel = self.project(onto=plane)\n",
    "    perp = self.reject(away_from=plane)\n",
    "\n",
    "    rotated_parallel = parallel * from_vec * to_vec / abs(from_vec) / abs(to_vec)\n",
    "    return rotated_parallel + perp\n",
    "\n",
    "\n",
    "galgebra.mv.Mv.rotate = rotate"
   ]
  },
  {
   "cell_type": "code",
   "execution_count": null,
   "id": "8b121c79-6c04-49fd-a396-a04b2a443fd6",
   "metadata": {},
   "outputs": [],
   "source": [
    "cross_product = symvec2.rotate(from_vec=symvec1, to_vec=e_x) \\\n",
    "                        .project(onto=e_y ^ e_z) \\\n",
    "                        .rotate(from_vec=e_y, to_vec=e_z) \\\n",
    "                        .rotate(from_vec=e_x, to_vec=symvec1) * abs(symvec1)\n",
    "Math('cross\\_product = %s' % latex(cross_product))"
   ]
  },
  {
   "cell_type": "code",
   "execution_count": null,
   "id": "04c77798-ba7b-4210-846e-0f7d1458ecda",
   "metadata": {},
   "outputs": [],
   "source": []
  },
  {
   "cell_type": "code",
   "execution_count": null,
   "id": "37b42e5e-1032-4076-aa50-fa70289bc5d8",
   "metadata": {},
   "outputs": [],
   "source": []
  }
 ],
 "metadata": {
  "kernelspec": {
   "display_name": "Python 3 (ipykernel)",
   "language": "python",
   "name": "python3"
  },
  "language_info": {
   "codemirror_mode": {
    "name": "ipython",
    "version": 3
   },
   "file_extension": ".py",
   "mimetype": "text/x-python",
   "name": "python",
   "nbconvert_exporter": "python",
   "pygments_lexer": "ipython3",
   "version": "3.11.4"
  }
 },
 "nbformat": 4,
 "nbformat_minor": 5
}
